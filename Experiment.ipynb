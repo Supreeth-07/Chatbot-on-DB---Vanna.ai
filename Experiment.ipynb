{
 "cells": [
  {
   "cell_type": "markdown",
   "id": "45c9cf04",
   "metadata": {},
   "source": [
    "### API Keys"
   ]
  },
  {
   "cell_type": "code",
   "execution_count": null,
   "id": "372bc8c7",
   "metadata": {},
   "outputs": [],
   "source": [
    "api_key = \"\" # vanna api key\n",
    "GEMINI_API_KEY='' # LLM api key"
   ]
  },
  {
   "cell_type": "markdown",
   "id": "4730eeff",
   "metadata": {},
   "source": [
    "### Import & installations"
   ]
  },
  {
   "cell_type": "code",
   "execution_count": null,
   "id": "45649e2c",
   "metadata": {},
   "outputs": [],
   "source": [
    "import vanna\n",
    "from vanna.chromadb import ChromaDB_VectorStore\n",
    "from vanna.google import GoogleGeminiChat\n",
    "import google.generativeai as genai\n",
    "import pyodbc\n",
    "import pandas as pd\n",
    "import platform"
   ]
  },
  {
   "cell_type": "markdown",
   "id": "7fc41060",
   "metadata": {},
   "source": [
    "### Innitiate vanna class with specific vector DB Vector store & LLM"
   ]
  },
  {
   "cell_type": "code",
   "execution_count": null,
   "metadata": {},
   "outputs": [],
   "source": [
    "class MyVanna(ChromaDB_VectorStore, GoogleGeminiChat):\n",
    "    def __init__(self, config=None):\n",
    "        ChromaDB_VectorStore.__init__(self, config=config)\n",
    "        GoogleGeminiChat.__init__(self, config={'api_key': GEMINI_API_KEY, 'model': \"gemini-pro\"})\n",
    "\n",
    "vn = MyVanna()"
   ]
  },
  {
   "cell_type": "markdown",
   "id": "3208445e",
   "metadata": {},
   "source": [
    "### Connect to DB "
   ]
  },
  {
   "cell_type": "code",
   "execution_count": null,
   "metadata": {},
   "outputs": [],
   "source": [
    "vn.connect_to_mssql(odbc_conn_str='DRIVER={ODBC Driver 17 for SQL Server};SERVER=---;DATABASE=---;UID=--;PWD=---') \n",
    "# You can use the ODBC connection string here\n"
   ]
  },
  {
   "cell_type": "code",
   "execution_count": null,
   "id": "0a7a1869",
   "metadata": {},
   "outputs": [],
   "source": [
    "vn"
   ]
  },
  {
   "cell_type": "markdown",
   "id": "619a7545",
   "metadata": {},
   "source": [
    "### Def function to run Query using provided connection"
   ]
  },
  {
   "cell_type": "code",
   "execution_count": null,
   "id": "0bd2accc",
   "metadata": {},
   "outputs": [],
   "source": [
    "def run_sql (sql :str) -> pd.DataFrame:\n",
    "    df = pd.read_sql_query(sql,conn)\n",
    "    return df"
   ]
  },
  {
   "cell_type": "code",
   "execution_count": null,
   "id": "ffa466ab",
   "metadata": {},
   "outputs": [],
   "source": [
    "vn.run_sql = run_sql\n",
    "vn.run_sql_is_set=True"
   ]
  },
  {
   "cell_type": "code",
   "execution_count": null,
   "id": "f691411b",
   "metadata": {},
   "outputs": [],
   "source": [
    "conn = pyodbc.connect(driver=\"{ODBC Driver 17 for SQL Server}\",\n",
    "                      host = platform.node(),\n",
    "                      database=\"----\", trusted_connection = 'yes'\n",
    ")"
   ]
  },
  {
   "cell_type": "markdown",
   "id": "12cd5296",
   "metadata": {},
   "source": [
    "### Capture INFORMATION_SCHEMA to train the vanna model"
   ]
  },
  {
   "cell_type": "markdown",
   "id": "f7085614",
   "metadata": {},
   "source": [
    "Part 1 : use DB schema"
   ]
  },
  {
   "cell_type": "code",
   "execution_count": null,
   "metadata": {},
   "outputs": [],
   "source": [
    "# The information schema query may need some tweaking depending on your database. This is a good starting point.\n",
    "df_information_schema = vn.run_sql(\"SELECT * FROM INFORMATION_SCHEMA.COLUMNS\")\n",
    "\n"
   ]
  },
  {
   "cell_type": "code",
   "execution_count": null,
   "id": "5e131dda",
   "metadata": {},
   "outputs": [],
   "source": [
    "# This will break up the information schema into bite-sized chunks that can be referenced by the LLM\n",
    "plan = vn.get_training_plan_generic(df_information_schema)\n",
    "plan\n",
    "\n"
   ]
  },
  {
   "cell_type": "code",
   "execution_count": null,
   "id": "e78625f5",
   "metadata": {},
   "outputs": [],
   "source": [
    "# If you like the plan, then run to train\n",
    "vn.train(plan=plan)"
   ]
  },
  {
   "cell_type": "markdown",
   "id": "60f48db5",
   "metadata": {},
   "source": [
    "Part 2 : use of DDL statments"
   ]
  },
  {
   "cell_type": "code",
   "execution_count": null,
   "metadata": {},
   "outputs": [],
   "source": [
    "# The following are methods for adding training data. Make sure you modify the examples to match your database.\n",
    "\n",
    "# DDL statements are powerful because they specify table names, colume names, types, and potentially relationships\n",
    "vn.train(ddl=\"\"\"\n",
    "    CREATE TABLE IF NOT EXISTS my-table (\n",
    "        id INT PRIMARY KEY,\n",
    "        name VARCHAR(100),\n",
    "        age INT\n",
    "    )\n",
    "\"\"\")\n",
    "\n"
   ]
  },
  {
   "cell_type": "markdown",
   "id": "6aab610e",
   "metadata": {},
   "source": [
    "Part 3 : use of Documentation to define the cases which are not covered in above training or any other cases which needs extra attention  "
   ]
  },
  {
   "cell_type": "code",
   "execution_count": null,
   "id": "84f570c3",
   "metadata": {},
   "outputs": [],
   "source": [
    "# Sometimes you may want to add documentation about your business terminology or definitions.\n",
    "vn.train(documentation=\"Our business defines OTIF score as the percentage of orders that are delivered on time and in full\")\n",
    "\n"
   ]
  },
  {
   "cell_type": "markdown",
   "id": "16858a32",
   "metadata": {},
   "source": [
    "Part 4 : use of existing / important set of SQL queries to train "
   ]
  },
  {
   "cell_type": "code",
   "execution_count": null,
   "id": "1b9f836c",
   "metadata": {},
   "outputs": [],
   "source": [
    "# You can also add SQL queries to your training data. This is useful if you have some queries already laying around. You can just copy and paste those from your editor to begin generating new SQL.\n",
    "vn.train(sql=\"SELECT * FROM my-table WHERE name = 'John Doe'\")\n"
   ]
  },
  {
   "cell_type": "markdown",
   "id": "706f19a5",
   "metadata": {},
   "source": [
    "### Creating training data & method to remove specific training data"
   ]
  },
  {
   "cell_type": "code",
   "execution_count": null,
   "id": "49ab4ac6",
   "metadata": {},
   "outputs": [],
   "source": [
    "# At any time you can inspect what training data the package is able to reference\n",
    "training_data = vn.get_training_data()\n",
    "training_data\n",
    "# You can remove training data if there's obsolete/incorrect information. \n",
    "#vn.remove_training_data(id='1-ddl')\n"
   ]
  },
  {
   "cell_type": "markdown",
   "id": "2b6be105",
   "metadata": {},
   "source": [
    "### Ask Questions to the model"
   ]
  },
  {
   "cell_type": "code",
   "execution_count": null,
   "id": "2f0f89a2",
   "metadata": {},
   "outputs": [],
   "source": [
    "## Asking the AI\n",
    "\n",
    "vn.ask(question=\"what is the total count of orders\")\n",
    "\n"
   ]
  },
  {
   "cell_type": "markdown",
   "id": "b744cbfd",
   "metadata": {},
   "source": [
    "### Use below built in Flask app to interact & fine-tune the model"
   ]
  },
  {
   "cell_type": "code",
   "execution_count": null,
   "id": "20515567",
   "metadata": {},
   "outputs": [],
   "source": [
    "from vanna.flask import VannaFlaskApp\n",
    "app = VannaFlaskApp(vn)\n",
    "app.run()"
   ]
  },
  {
   "cell_type": "code",
   "execution_count": null,
   "metadata": {},
   "outputs": [],
   "source": []
  },
  {
   "cell_type": "code",
   "execution_count": null,
   "id": "d5ecd58d",
   "metadata": {},
   "outputs": [],
   "source": []
  }
 ],
 "metadata": {
  "kernelspec": {
   "display_name": "Python 3",
   "language": "python",
   "name": "python3"
  },
  "language_info": {
   "codemirror_mode": {
    "name": "ipython",
    "version": 3
   },
   "file_extension": ".py",
   "mimetype": "text/x-python",
   "name": "python",
   "nbconvert_exporter": "python",
   "pygments_lexer": "ipython3",
   "version": "3.12.9"
  }
 },
 "nbformat": 4,
 "nbformat_minor": 5
}
